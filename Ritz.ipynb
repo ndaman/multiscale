{
 "cells": [
  {
   "cell_type": "markdown",
   "metadata": {},
   "source": [
    "# Ritz Example 1\n",
    "\n",
    "Solve the differential equation\n",
    "\n",
    "$$\n",
    "\\frac{d^2 u}{dx^2} +u + x = 0\n",
    "$$\n",
    "\n",
    "for $0 \\le x \\le 1$ with $u(0) = u(1) = 0$ \n",
    "\n",
    "First we note that the differential equation is equivalent to\n",
    "$$\n",
    "I[u] = \\int_0^1 \\left[-\\frac{1}{2} \\left( \\frac{du}{dx} \\right)^2 + \\frac{1}{2}u^2 + ux \\right]dx\n",
    "$$\n",
    "\n",
    "and we consider the trial function $u_1 = a_1x(1-x)$"
   ]
  },
  {
   "cell_type": "code",
   "execution_count": 94,
   "metadata": {
    "collapsed": false
   },
   "outputs": [],
   "source": [
    "import sympy as sm\n",
    "sm.init_printing()\n",
    "\n",
    "a1,x,u,u1 = sm.symbols('a_1 x u u_1')\n",
    "\n",
    "#trial function\n",
    "u1 = a1*x*(1-x)\n",
    "I = sm.integrate(-(sm.diff(u1,x))**2/2 + u1**2/2 + u1*x,(x,0,1))"
   ]
  },
  {
   "cell_type": "code",
   "execution_count": 95,
   "metadata": {
    "collapsed": false
   },
   "outputs": [
    {
     "data": {
      "image/png": "[encoded data removed]",
      "text/latex": [
       "$$- \\frac{3 a_{1}^{2}}{20} + \\frac{a_{1}}{12}$$"
      ],
      "text/plain": [
       "      2     \n",
       "  3⋅a₁    a₁\n",
       "- ───── + ──\n",
       "    20    12"
      ]
     },
     "execution_count": 95,
     "metadata": {},
     "output_type": "execute_result"
    }
   ],
   "source": [
    "I"
   ]
  },
  {
   "cell_type": "markdown",
   "metadata": {},
   "source": [
    "Now we set $\\delta I[a_1] = 0$ to find $a_1$"
   ]
  },
  {
   "cell_type": "code",
   "execution_count": 96,
   "metadata": {
    "collapsed": false
   },
   "outputs": [
    {
     "data": {
      "image/png": "[encoded data removed]",
      "text/latex": [
       "$$\\left [ \\frac{5}{18}\\right ]$$"
      ],
      "text/plain": [
       "[5/18]"
      ]
     },
     "execution_count": 96,
     "metadata": {},
     "output_type": "execute_result"
    }
   ],
   "source": [
    "sm.solve(sm.diff(I,a1),a1)"
   ]
  },
  {
   "cell_type": "markdown",
   "metadata": {},
   "source": [
    "Which gives the approximate solution"
   ]
  },
  {
   "cell_type": "code",
   "execution_count": 97,
   "metadata": {
    "collapsed": false
   },
   "outputs": [
    {
     "data": {
      "image/png": "[encoded data removed]",
      "text/latex": [
       "$$\\frac{5 x}{18} \\left(- x + 1\\right)$$"
      ],
      "text/plain": [
       "5⋅x⋅(-x + 1)\n",
       "────────────\n",
       "     18     "
      ]
     },
     "execution_count": 97,
     "metadata": {},
     "output_type": "execute_result"
    }
   ],
   "source": [
    "u = u1.subs(a1,sm.solve(sm.diff(I,a1),a1)[0])\n",
    "u"
   ]
  },
  {
   "cell_type": "markdown",
   "metadata": {},
   "source": [
    "However if we substitute this into the initial governing equation, we find"
   ]
  },
  {
   "cell_type": "code",
   "execution_count": 98,
   "metadata": {
    "collapsed": false
   },
   "outputs": [
    {
     "data": {
      "image/png": "[encoded data removed]",
      "text/latex": [
       "$$- \\frac{5 x^{2}}{18} + \\frac{23 x}{18} - \\frac{5}{9}$$"
      ],
      "text/plain": [
       "     2           \n",
       "  5⋅x    23⋅x   5\n",
       "- ──── + ──── - ─\n",
       "   18     18    9"
      ]
     },
     "execution_count": 98,
     "metadata": {},
     "output_type": "execute_result"
    }
   ],
   "source": [
    "ans = sm.diff(u,x,x) + u +x\n",
    "ans.simplify()"
   ]
  },
  {
   "cell_type": "markdown",
   "metadata": {},
   "source": [
    "Which we can show is not zero for the given domain"
   ]
  },
  {
   "cell_type": "code",
   "execution_count": 99,
   "metadata": {
    "collapsed": false
   },
   "outputs": [
    {
     "data": {
      "image/png": "[encoded data removed]",
      "text/latex": [
       "$$0.0138888888888889$$"
      ],
      "text/plain": [
       "0.0138888888888889"
      ]
     },
     "execution_count": 99,
     "metadata": {},
     "output_type": "execute_result"
    }
   ],
   "source": [
    "ans.subs(x,0.5)"
   ]
  },
  {
   "cell_type": "markdown",
   "metadata": {},
   "source": [
    "We can choose a different trial function\n",
    "$$\n",
    "u_2 = a_1 \\sin x + a_2 x\n",
    "$$\n",
    "with\n",
    "$$\n",
    "a_1 \\sin 1 + a_2 =0\n",
    "$$\n",
    "to satisfy the boundary condition, which gives\n",
    "\n",
    "$$\n",
    "u_2 = a_1(\\sin x - x\\sin 1)\n",
    "$$"
   ]
  },
  {
   "cell_type": "code",
   "execution_count": 119,
   "metadata": {
    "collapsed": false
   },
   "outputs": [
    {
     "data": {
      "image/png": "[encoded data removed]",
      "text/latex": [
       "$$\\frac{a_{1}}{6} \\left(- 2 a_{1} \\sin^{2}{\\left (1 \\right )} + \\frac{3 a_{1}}{2} \\sin{\\left (2 \\right )} - 6 \\cos{\\left (1 \\right )} + 4 \\sin{\\left (1 \\right )}\\right)$$"
      ],
      "text/plain": [
       "   ⎛          2      3⋅a₁⋅sin(2)                      ⎞\n",
       "a₁⋅⎜- 2⋅a₁⋅sin (1) + ─────────── - 6⋅cos(1) + 4⋅sin(1)⎟\n",
       "   ⎝                      2                           ⎠\n",
       "───────────────────────────────────────────────────────\n",
       "                           6                           "
      ]
     },
     "execution_count": 119,
     "metadata": {},
     "output_type": "execute_result"
    }
   ],
   "source": [
    "a2, u2 = sm.symbols('a_1 u_2')\n",
    "u2 = a2*(sm.sin(x)-x*sm.sin(1))\n",
    "I = sm.integrate(-(sm.diff(u2,x))**2/2 + u2**2/2 + u2*x,(x,0,1))\n",
    "I.simplify()"
   ]
  },
  {
   "cell_type": "markdown",
   "metadata": {},
   "source": [
    "solving $\\delta I = 0$ for $a_1$ gives"
   ]
  },
  {
   "cell_type": "code",
   "execution_count": 120,
   "metadata": {
    "collapsed": false
   },
   "outputs": [
    {
     "data": {
      "image/png": "[encoded data removed]",
      "text/latex": [
       "$$\\frac{1}{\\sin{\\left (1 \\right )}} \\left(- x \\sin{\\left (1 \\right )} + \\sin{\\left (x \\right )}\\right)$$"
      ],
      "text/plain": [
       "-x⋅sin(1) + sin(x)\n",
       "──────────────────\n",
       "      sin(1)      "
      ]
     },
     "execution_count": 120,
     "metadata": {},
     "output_type": "execute_result"
    }
   ],
   "source": [
    "u2 = u2.subs(a2,sm.solve(sm.diff(I,a2),a2)[0].simplify())\n",
    "u2"
   ]
  },
  {
   "cell_type": "markdown",
   "metadata": {},
   "source": [
    "It turns out this is the exact solution. We can compare this to a solution where we simply add one more term to the polynomial\n",
    "\n",
    "$$\n",
    "u_3 = a_1 x (1-x) + a_2 x^2 (1-x^2)\n",
    "$$"
   ]
  },
  {
   "cell_type": "code",
   "execution_count": 121,
   "metadata": {
    "collapsed": false
   },
   "outputs": [
    {
     "data": {
      "image/png": "[encoded data removed]",
      "text/latex": [
       "$$- \\frac{3 a_{1}^{2}}{20} - \\frac{101 a_{1}}{420} a_{2} + \\frac{a_{1}}{12} - \\frac{62 a_{2}^{2}}{315} + \\frac{a_{2}}{12}$$"
      ],
      "text/plain": [
       "      2                         2     \n",
       "  3⋅a₁    101⋅a₁⋅a₂   a₁   62⋅a₂    a₂\n",
       "- ───── - ───────── + ── - ────── + ──\n",
       "    20       420      12    315     12"
      ]
     },
     "execution_count": 121,
     "metadata": {},
     "output_type": "execute_result"
    }
   ],
   "source": [
    "a3,a4,u3 = sm.symbols('a_1 a_2 u_3')\n",
    "u3 = a3*x*(1-x) + a4*x**2*(1-x**2)\n",
    "I = sm.integrate(-(sm.diff(u3,x))**2/2 + u3**2/2 + u3*x,(x,0,1))\n",
    "I.simplify()"
   ]
  },
  {
   "cell_type": "code",
   "execution_count": 122,
   "metadata": {
    "collapsed": false
   },
   "outputs": [
    {
     "data": {
      "image/png": "[encoded data removed]",
      "text/latex": [
       "$$\\left \\{ a_{1} : \\frac{6755}{31893}, \\quad a_{2} : \\frac{875}{10631}\\right \\}$$"
      ],
      "text/plain": [
       "⎧     6755       875 ⎫\n",
       "⎨a₁: ─────, a₂: ─────⎬\n",
       "⎩    31893      10631⎭"
      ]
     },
     "execution_count": 122,
     "metadata": {},
     "output_type": "execute_result"
    }
   ],
   "source": [
    "sm.solve((sm.diff(I,a3),sm.diff(I,a4)),(a3,a4))"
   ]
  },
  {
   "cell_type": "code",
   "execution_count": 123,
   "metadata": {
    "collapsed": false
   },
   "outputs": [
    {
     "data": {
      "image/png": "[encoded data removed]",
      "text/latex": [
       "$$\\frac{875 x^{2}}{10631} \\left(- x^{2} + 1\\right) + \\frac{6755 x}{31893} \\left(- x + 1\\right)$$"
      ],
      "text/plain": [
       "     2 ⎛   2    ⎞                  \n",
       "875⋅x ⋅⎝- x  + 1⎠   6755⋅x⋅(-x + 1)\n",
       "───────────────── + ───────────────\n",
       "      10631              31893     "
      ]
     },
     "execution_count": 123,
     "metadata": {},
     "output_type": "execute_result"
    }
   ],
   "source": [
    "# use '_' to get previous results\n",
    "u3=u3.subs(_)\n",
    "u3"
   ]
  },
  {
   "cell_type": "code",
   "execution_count": 139,
   "metadata": {
    "collapsed": false
   },
   "outputs": [
    {
     "data": {
      "image/png": "[encoded data removed]",
      "text/plain": [
       "<matplotlib.figure.Figure at 0xadf5908>"
      ]
     },
     "metadata": {},
     "output_type": "display_data"
    }
   ],
   "source": [
    "p=sm.plotting.plot(u,u2,u3,(x,0,1),show=False)\n",
    "p[0].line_color='blue'\n",
    "p[1].line_color='red'\n",
    "p[2].line_color='green'\n",
    "p.show()"
   ]
  },
  {
   "cell_type": "markdown",
   "metadata": {},
   "source": [
    "In the above solution, the red curve is exact, blue is single-term approximation, and green is the two-term approximation."
   ]
  },
  {
   "cell_type": "markdown",
   "metadata": {},
   "source": [
    "# Ritz Example 2\n",
    "\n",
    "For a 2D domaine defined by $x\\in [0,\\pi]$ and $y\\in [0,1]$ solve the following PDE\n",
    "$$\n",
    "\\frac{\\partial^2 u}{\\partial x^2} + \\frac{\\partial^2 u}{\\partial y^2} = 0\n",
    "$$\n",
    "where $u(0,y) = u(\\pi,y) = u(0,x) = 0$ and $u(x,1) = \\sin x$\n",
    "\n",
    "From a previous example, we know that this differential equation corresponds to\n",
    "$$\n",
    "I[u] = \\frac{1}{2} \\int_0^1 \\int_0^\\pi \\left [\\left( \\frac{\\partial u}{\\partial x}\\right)^2 + \\left( \\frac{\\partial u}{\\partial y}\\right)^2\\right ] dx dy\n",
    "$$\n",
    "\n",
    "We assume trial functions to have the form $u(x,y) = f(y) \\sin x$ to satisfy the boundary conditions in $x$.\n",
    "Substituting into the integral and integrating over $x$ gives."
   ]
  },
  {
   "cell_type": "code",
   "execution_count": 154,
   "metadata": {
    "collapsed": false
   },
   "outputs": [
    {
     "data": {
      "image/png": "[encoded data removed]",
      "text/latex": [
       "$$\\frac{\\pi}{4} f^{2}{\\left (y \\right )} + \\frac{\\pi}{4} \\frac{d}{d y} f{\\left (y \\right )}^{2}$$"
      ],
      "text/plain": [
       "                      2\n",
       "            ⎛d       ⎞ \n",
       "   2      π⋅⎜──(f(y))⎟ \n",
       "π⋅f (y)     ⎝dy      ⎠ \n",
       "─────── + ─────────────\n",
       "   4            4      "
      ]
     },
     "execution_count": 154,
     "metadata": {},
     "output_type": "execute_result"
    }
   ],
   "source": [
    "x,y = sm.symbols('x y')\n",
    "f = sm.Function('f')(y)\n",
    "u = f*sm.sin(x)\n",
    "I = sm.integrate(sm.diff(u,x)**2+sm.diff(u,y)**2,(x,0,sm.pi))/2\n",
    "I"
   ]
  },
  {
   "cell_type": "markdown",
   "metadata": {},
   "source": [
    "We can now solve the Euler-Lagrange equation $f - f^{\\prime \\prime} = 0$ subject to the boundary conditions."
   ]
  },
  {
   "cell_type": "code",
   "execution_count": 160,
   "metadata": {
    "collapsed": false
   },
   "outputs": [
    {
     "data": {
      "image/png": "[encoded data removed]",
      "text/latex": [
       "$$f{\\left (y \\right )} = C_{1} e^{- y} + C_{2} e^{y}$$"
      ],
      "text/plain": [
       "           -y       y\n",
       "f(y) = C₁⋅ℯ   + C₂⋅ℯ "
      ]
     },
     "execution_count": 160,
     "metadata": {},
     "output_type": "execute_result"
    }
   ],
   "source": [
    "f_ans = sm.dsolve(f-sm.diff(f,y,y))\n",
    "f_ans"
   ]
  },
  {
   "cell_type": "code",
   "execution_count": 163,
   "metadata": {
    "collapsed": false
   },
   "outputs": [
    {
     "data": {
      "image/png": "[encoded data removed]",
      "text/latex": [
       "$$\\left [ \\right ]$$"
      ],
      "text/plain": [
       "[]"
      ]
     },
     "execution_count": 163,
     "metadata": {},
     "output_type": "execute_result"
    }
   ],
   "source": [
    "C1, C2 = sm.symbols('C1 C2')\n",
    "sm.solve([f_ans.subs(y,0),f_ans.subs(y,1)-1],[C1,C2])"
   ]
  },
  {
   "cell_type": "markdown",
   "metadata": {},
   "source": [
    "While this solver can't find the solution, it is not hard by hand to obtain that\n",
    "$$\n",
    "f(y) = \\frac{\\sinh y}{\\sinh 1}\n",
    "$$\n",
    "which gives the total solution\n",
    "$$\n",
    "u(x,y) = \\frac{\\sinh y}{\\sinh 1} \\sin x\n",
    "$$\n",
    "\n",
    "We can verify that this is the exact solution"
   ]
  },
  {
   "cell_type": "code",
   "execution_count": null,
   "metadata": {
    "collapsed": true
   },
   "outputs": [],
   "source": []
  }
 ],
 "metadata": {
  "anaconda-cloud": {},
  "kernelspec": {
   "display_name": "Python [conda root]",
   "language": "python",
   "name": "conda-root-py"
  },
  "language_info": {
   "codemirror_mode": {
    "name": "ipython",
    "version": 2
   },
   "file_extension": ".py",
   "mimetype": "text/x-python",
   "name": "python",
   "nbconvert_exporter": "python",
   "pygments_lexer": "ipython2",
   "version": "2.7.12"
  }
 },
 "nbformat": 4,
 "nbformat_minor": 1
}
