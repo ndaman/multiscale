{
 "cells": [
  {
   "cell_type": "markdown",
   "metadata": {},
   "source": [
    "# Eshelby Example"
   ]
  },
  {
   "cell_type": "markdown",
   "metadata": {},
   "source": [
    "## Rotation functions\n",
    "\n",
    "First we will define rotation functions for $Q_{ij}$ and $R_\\sigma$"
   ]
  },
  {
   "cell_type": "code",
   "execution_count": 11,
   "metadata": {
    "collapsed": true
   },
   "outputs": [],
   "source": [
    "import numpy as np\n",
    "\n",
    "def qij_x(theta):\n",
    "    \"\"\"\n",
    "    rotation tensor about x-axis by some theta\n",
    "    input: theta (angle in radians)\n",
    "    output: qij (3x3 rotation tensor)\n",
    "    \"\"\"\n",
    "    qij = np.array([[1,0,0],\n",
    "                   [0,np.cos(theta),-np.sin(theta)],\n",
    "                   [0,np.sin(theta),np.cos(theta)]])\n",
    "    return qij\n",
    "\n",
    "def qij_y(theta):\n",
    "    \"\"\"\n",
    "    rotation tensor about y-axis by some theta\n",
    "    input: theta (angle in radians)\n",
    "    output: qij (3x3 rotation tensor)\n",
    "    \"\"\"\n",
    "    qij = np.array([[np.cos(theta), 0, np.sin(theta)],\n",
    "                   [0,1,0],\n",
    "                   [-np.sin(theta),0,np.cos(theta)]])\n",
    "    return qij\n",
    "\n",
    "def qij_z(theta):\n",
    "    \"\"\"\n",
    "    rotation tensor about z-axis by some theta\n",
    "    input: theta (angle in radians)\n",
    "    output: qij (3x3 rotation tensor)\n",
    "    \"\"\"\n",
    "    qij = np.array([[np.cos(theta),-np.sin(theta),0],\n",
    "                   [np.sin(theta),np.cos(theta),0],\n",
    "                   [0,0,1]])\n",
    "    return qij\n",
    "\n",
    "def R_sigma(q):\n",
    "    \"\"\"\n",
    "    rotation matrix for engineering notation given some rotation tensor, qij\n",
    "    note: uses convention for sigma = [s11, s22, s33, s23, s13, s12]\n",
    "    input: q (3x3 rotation tensor)\n",
    "    output: R_s (6x6 rotation matrix)\n",
    "    \"\"\"\n",
    "    R_s = np.array([[q[0,0]**2,q[0,1]**2,q[0,2]**2,q[0,1]*q[0,2],q[0,0]*q[0,2], q[0,0]*q[0,1]],\n",
    "                       [q[1,0]**2,q[1,1]**2,q[1,2]**2,q[1,1]*q[1,2],q[1,0]*q[1,2], q[1,0]*q[1,1]],\n",
    "                       [q[2,0]**2,q[2,1]**2,q[2,2]**2,q[2,1]*q[2,2],q[2,0]*q[2,2], q[2,0]*q[2,1]],\n",
    "                       [2*q[1,0]*q[2,0], 2*q[1,1]*q[2,1], 2*q[1,2]*q[2,2],q[1,2]*q[2,1]+q[1,1]*q[2,2], q[1,2]*q[2,0]+q[1,0]*q[2,2], q[1,1]*q[2,0]+q[1,0]*q[2,1]],\n",
    "                       [2*q[0,0]*q[2,0], 2*q[0,1]*q[2,1], 2*q[0,2]*q[2,2],q[0,2]*q[2,1]+q[0,1]*q[2,2], q[0,2]*q[2,0]+q[0,0]*q[2,2], q[0,1]*q[2,0]+q[0,0]*q[2,1]],\n",
    "                       [2*q[0,0]*q[1,0], 2*q[0,1]*q[1,1], 2*q[0,2]*q[1,2],q[0,2]*q[1,1]+q[0,1]*q[1,2], q[0,2]*q[1,0]+q[0,0]*q[1,2], q[0,1]*q[1,0]+q[0,0]*q[1,1]]])\n",
    "    return R_s"
   ]
  },
  {
   "cell_type": "markdown",
   "metadata": {},
   "source": [
    "## Eshelby Tensor\n",
    "\n",
    "Now we calculate parameters for the Eshelby Tensor"
   ]
  },
  {
   "cell_type": "code",
   "execution_count": 105,
   "metadata": {
    "collapsed": false
   },
   "outputs": [],
   "source": [
    "nu_m = 0.40 #matrix poisson's ratio\n",
    "s = 15. #fiber aspect ratio\n",
    "I1 = (2.*s/(s**2.-1.)**1.5)*(s*(s**2.-1.)**.5-np.arccosh(s))\n",
    "Q = 3./(8*(1-nu_m))\n",
    "R = (1-2*nu_m)/(8*(1-nu_m))\n",
    "T = Q*(4-3*I1)/(3*(s**2-1))\n",
    "I3 = 4-2*I1"
   ]
  },
  {
   "cell_type": "markdown",
   "metadata": {},
   "source": [
    "And now we find the Eshelby tensor."
   ]
  },
  {
   "cell_type": "code",
   "execution_count": 106,
   "metadata": {
    "collapsed": true
   },
   "outputs": [],
   "source": [
    "S = np.zeros((6,6))\n",
    "S[0,0] = Q + R*I1 + 0.75*T\n",
    "S[1,1] = S[0,0]\n",
    "S[2,2] = 4/3*Q + R*I3 + 2*s**2*T\n",
    "S[0,1] = Q/3 - R*I1 + 4*T/3\n",
    "S[1,0] = S[0,1]\n",
    "S[0,2] = -R*I1 - s**2*T\n",
    "S[1,2] = S[0,2]\n",
    "S[2,0] = -R*I3 - T\n",
    "S[2,1] = S[2,0]\n",
    "S[5,5] = Q/3 + R*I1 + T/4\n",
    "S[3,3] = 2*R - I1*R/2 - (1+s**2)*T/2\n",
    "S[4,4] = S[3,3]"
   ]
  },
  {
   "cell_type": "markdown",
   "metadata": {},
   "source": [
    "We now rotate the Eshelby tensor into the $\\pm 45^\\circ$ directions. If we want fiber directions to align in the x-axis (instead of the z-axis as is defined), we will need two rotations, one to put the fibers in the x-direction, and one to rotate by $\\pm 45^\\circ$.\n",
    "\n",
    "This rotation could be done multiple ways, but I will do it by first rotation $90^\\circ$ about the x2-axis, then rotating $\\pm45^\\circ$ about the new x1' axis. As we found from our example in Lecture 2 (slide 35), one effective Q for this transformation can be found by multiplying $Q^2 Q^1$"
   ]
  },
  {
   "cell_type": "code",
   "execution_count": 107,
   "metadata": {
    "collapsed": false
   },
   "outputs": [],
   "source": [
    "Q1 = qij_y(np.pi/2)\n",
    "Q2_45 = qij_z(np.pi/4) #plus 45 rotation\n",
    "Q2_m45 = qij_z(-np.pi/4) #minus 45 rotation\n",
    "\n",
    "Q_45 = np.dot(Q2_45,Q1) #matrix multiplication in python\n",
    "Q_m45 = np.dot(Q2_m45,Q1)\n",
    "\n",
    "R_45 = R_sigma(Q_45)\n",
    "R_m45 = R_sigma(Q_m45)\n",
    "\n",
    "S_45 = np.dot(R_45,np.dot(S,R_45.T))\n",
    "S_m45 = np.dot(R_m45,np.dot(S,R_m45.T))"
   ]
  },
  {
   "cell_type": "markdown",
   "metadata": {},
   "source": [
    "# Stiffness Matrix\n",
    "\n",
    "Now we need to build the stiffness matrices for $C_f$ and $C_m$ to find the strain concentration tensors.\n",
    "For simplicity, we will assume isotropic material properties.\n",
    "If the matrix were not isotropic, we would need to use a different formula to calculate the Eshelby tensor, but that is not the case here."
   ]
  },
  {
   "cell_type": "code",
   "execution_count": 108,
   "metadata": {
    "collapsed": true
   },
   "outputs": [],
   "source": [
    "Ef = 200. #GPa\n",
    "nu_f = 0.2\n",
    "Em = 10 #GPa\n",
    "#nu_m defined above\n",
    "Cf = np.zeros((6,6))\n",
    "Cf[0:3,0:3] = nu_f*np.ones((3,3))\n",
    "Cf = Cf + (1-2*nu_f)*np.eye(6)\n",
    "Cf[3:,3:] = Cf[3:,3:]/2\n",
    "Cf = Ef/((1+nu_f)*(1-2*nu_f))*Cf\n",
    "\n",
    "Cm = np.zeros((6,6))\n",
    "Cm[0:3,0:3] = nu_m*np.ones((3,3))\n",
    "Cm = Cm + (1-2*nu_m)*np.eye(6)\n",
    "Cm[3:,3:] = Cm[3:,3:]/2\n",
    "Cm = Em/((1+nu_m)*(1-2*nu_m))*Cm"
   ]
  },
  {
   "cell_type": "markdown",
   "metadata": {},
   "source": [
    "# Strain Concentration Tensor\n",
    "We can now find the strain concentration tensors\n",
    "$$\n",
    "A^{45} = \\left[I + S^{45} (C_m)^{-1}(C_f-C_m) \\right]^{-1}\n",
    "$$\n",
    "$$\n",
    "A^{-45} = \\left[I + S^{-45} (C_m)^{-1}(C_f-C_m) \\right]^{-1}\n",
    "$$"
   ]
  },
  {
   "cell_type": "code",
   "execution_count": 109,
   "metadata": {
    "collapsed": false
   },
   "outputs": [],
   "source": [
    "A_45 = np.linalg.inv(np.eye(6)+np.dot(np.dot(S_45,np.linalg.inv(Cm)),(Cf-Cm)))\n",
    "A_m45 = np.linalg.inv(np.eye(6)+np.dot(np.dot(S_m45,np.linalg.inv(Cm)),(Cf-Cm)))"
   ]
  },
  {
   "cell_type": "markdown",
   "metadata": {},
   "source": [
    "## Effective Stiffness\n",
    "And, finally, we can use the strain concentration tensors to calculate the effective stiffness.\n",
    "$$\n",
    "C = C_m + v^{45}(C_f-C_m)A^{45} + v^{-45}(C_f-C_m)A^{-45}\n",
    "$$"
   ]
  },
  {
   "cell_type": "code",
   "execution_count": 113,
   "metadata": {
    "collapsed": true
   },
   "outputs": [],
   "source": [
    "v_45 = 0.1 #volume fraction of +45\n",
    "v_m45 = 0.1 #volume fraction of -45\n",
    "C = Cm + v_45*np.dot((Cf-Cm),A_45) + v_m45*np.dot((Cf-Cm),A_m45)"
   ]
  },
  {
   "cell_type": "markdown",
   "metadata": {},
   "source": [
    "To interpret the stiffness, we convert it to compliance and find youngs modulus in each direction"
   ]
  },
  {
   "cell_type": "code",
   "execution_count": 114,
   "metadata": {
    "collapsed": false
   },
   "outputs": [
    {
     "name": "stdout",
     "output_type": "stream",
     "text": [
      "13.9789671893\n",
      "13.9789671893\n",
      "10.1214123974\n"
     ]
    }
   ],
   "source": [
    "S = np.linalg.inv(C)\n",
    "print 1/S[0,0]\n",
    "print 1/S[1,1]\n",
    "print 1/S[2,2]"
   ]
  },
  {
   "cell_type": "code",
   "execution_count": null,
   "metadata": {
    "collapsed": false
   },
   "outputs": [],
   "source": []
  }
 ],
 "metadata": {
  "anaconda-cloud": {},
  "kernelspec": {
   "display_name": "Python [conda root]",
   "language": "python",
   "name": "conda-root-py"
  },
  "language_info": {
   "codemirror_mode": {
    "name": "ipython",
    "version": 2
   },
   "file_extension": ".py",
   "mimetype": "text/x-python",
   "name": "python",
   "nbconvert_exporter": "python",
   "pygments_lexer": "ipython2",
   "version": "2.7.12"
  }
 },
 "nbformat": 4,
 "nbformat_minor": 1
}
