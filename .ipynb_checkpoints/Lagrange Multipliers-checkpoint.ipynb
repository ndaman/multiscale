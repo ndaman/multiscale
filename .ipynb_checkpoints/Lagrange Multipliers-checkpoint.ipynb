{
 "cells": [
  {
   "cell_type": "markdown",
   "metadata": {},
   "source": [
    "# Lagrange Multiplier\n",
    "\n",
    "## Variable reduction\n",
    "Since this is a relatively simple problem, it is not too difficult to solve it the traditional way, first we eliminate the variable x from the equation for volume."
   ]
  },
  {
   "cell_type": "code",
   "execution_count": 1,
   "metadata": {
    "collapsed": true
   },
   "outputs": [],
   "source": [
    "import sympy as sm\n",
    "x, y, z, C = sm.symbols('x y z C')\n",
    "V = (C-2*y*z)/(2*z+y)*y*z\n",
    "dvdy = sm.diff(V,y)\n",
    "dvdz = sm.diff(V,z)"
   ]
  },
  {
   "cell_type": "markdown",
   "metadata": {},
   "source": [
    "Now we need to find the values for y and z such that $\\partial V/ \\partial y = \\partial V/ \\partial z = 0$"
   ]
  },
  {
   "cell_type": "code",
   "execution_count": 16,
   "metadata": {
    "collapsed": false
   },
   "outputs": [
    {
     "data": {
      "text/plain": [
       "[(-sqrt(3)*sqrt(C)/3, -sqrt(3)*sqrt(C)/6),\n",
       " (sqrt(3)*sqrt(C)/3, sqrt(3)*sqrt(C)/6)]"
      ]
     },
     "execution_count": 16,
     "metadata": {},
     "output_type": "execute_result"
    }
   ],
   "source": [
    "sm.solve([dvdy,dvdz],[y,z])"
   ]
  },
  {
   "cell_type": "markdown",
   "metadata": {},
   "source": [
    "We find two sets of solutions, but only one is physically valid (side length > 0), so we choose $y = 2z = \\sqrt{C/3}$\n",
    "\n",
    "## Lagrange Multiplier\n",
    "\n",
    "To use the Lagrange multiplier method, we first construct our alternate volume function.\n",
    "\n",
    "$$\n",
    "V^* = xyz + \\lambda (2xz + 2yz + xy - C)\n",
    "$$\n",
    "\n",
    "For this function to be stationary we need\n",
    "\n",
    "$$\n",
    "\\frac{\\partial V^*}{\\partial x} = yz + \\lambda(2z + y) = 0\n",
    "$$\n",
    "$$\n",
    "\\frac{\\partial V^*}{\\partial y} = xz + \\lambda(2z + x) = 0\n",
    "$$\n",
    "$$\n",
    "\\frac{\\partial V^*}{\\partial z} = xy + \\lambda(2x + 2y) = 0\n",
    "$$\n",
    "$$\n",
    "\\frac{\\partial V^*}{\\partial \\lambda} = 2xz + 2yz + xy - C = 0\n",
    "$$"
   ]
  },
  {
   "cell_type": "code",
   "execution_count": 20,
   "metadata": {
    "collapsed": false
   },
   "outputs": [
    {
     "data": {
      "text/plain": [
       "[(-sqrt(3)*sqrt(C)/3,\n",
       "  -sqrt(3)*sqrt(C)/3,\n",
       "  -sqrt(3)*sqrt(C)/6,\n",
       "  sqrt(3)*sqrt(C)/12),\n",
       " (sqrt(3)*sqrt(C)/3,\n",
       "  sqrt(3)*sqrt(C)/3,\n",
       "  sqrt(3)*sqrt(C)/6,\n",
       "  -sqrt(3)*sqrt(C)/12)]"
      ]
     },
     "execution_count": 20,
     "metadata": {},
     "output_type": "execute_result"
    }
   ],
   "source": [
    "l = sm.symbols(r'\\lambda')\n",
    "vs = x*y*z + l*(2*x*z + 2*y*z + x*y - C)\n",
    "dvsdx = sm.diff(vs,x)\n",
    "dvsdy = sm.diff(vs,y)\n",
    "dvsdz = sm.diff(vs,z)\n",
    "dvsdl = sm.diff(vs,l)\n",
    "sm.solve([dvsdx,dvsdy,dvsdz,dvsdl],[x,y,z,l])"
   ]
  },
  {
   "cell_type": "markdown",
   "metadata": {},
   "source": [
    "We find the only meaningful solution is $x = y = 2z = \\sqrt{C/3}$ with the Lagrange Multiplier as $\\lambda = -\\frac{\\sqrt{C}}{4\\sqrt{3}}$.\n",
    "\n",
    "In this case, it seems like we have just done extra work to find the same solution, but the advantage is that we did not need to set up any logic to eliminate variables, we were able to define the problem in a very systematic way, that is easily automatable by a computer."
   ]
  },
  {
   "cell_type": "markdown",
   "metadata": {},
   "source": []
  }
 ],
 "metadata": {
  "anaconda-cloud": {},
  "kernelspec": {
   "display_name": "Python [conda root]",
   "language": "python",
   "name": "conda-root-py"
  },
  "language_info": {
   "codemirror_mode": {
    "name": "ipython",
    "version": 2
   },
   "file_extension": ".py",
   "mimetype": "text/x-python",
   "name": "python",
   "nbconvert_exporter": "python",
   "pygments_lexer": "ipython2",
   "version": "2.7.12"
  }
 },
 "nbformat": 4,
 "nbformat_minor": 1
}
