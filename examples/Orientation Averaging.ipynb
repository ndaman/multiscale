{
 "cells": [
  {
   "cell_type": "markdown",
   "metadata": {},
   "source": [
    "# Orientation Averaging\n",
    "\n",
    "Compare stiffness predictions for $[0/90]_S$, $[\\pm 45]_S$ and $[0/\\pm 45/09]_S$ for direction Mori-Tanaka calculations and using the orientation averaging method.\n",
    "\n",
    "## Orientation Tensors\n",
    "\n",
    "First we calculate the discrete orientation tensors.\n",
    "$$\n",
    "a_{ij} = \\frac{1}{N}\\sum p_i p_j\n",
    "$$\n",
    "$$\n",
    "a_{ijkl} = \\frac{1}{N}\\sum p_i p_j p_k p_l\n",
    "$$\n",
    "We can calculate $p_i$ for each of the plies in this example\n",
    "\n",
    "| Angle | $p_1$ | $p_2$| $p_3$ |\n",
    "|-------|-------|------|-------|\n",
    "| 0     | 1     |   0  |  0    |\n",
    "| 45    | $\\frac{\\sqrt{2}}{2}$ | $\\frac{\\sqrt{2}}{2}$ | 0 |\n",
    "| -45   | $\\frac{\\sqrt{2}}{2}$ | $-\\frac{\\sqrt{2}}{2}$ | 0 |\n",
    "| 90    | 0     |   1  |  0    |"
   ]
  },
  {
   "cell_type": "code",
   "execution_count": 1,
   "metadata": {},
   "outputs": [
    {
     "name": "stdout",
     "output_type": "stream",
     "text": [
      "0/90 laminate: \n",
      "[[ 0.5  0.   0. ]\n",
      " [ 0.   0.5  0. ]\n",
      " [ 0.   0.   0. ]]\n",
      "+-45 laminate: \n",
      "[[ 0.5  0.   0. ]\n",
      " [ 0.   0.5  0. ]\n",
      " [ 0.   0.   0. ]]\n",
      "0/+-45/90 laminate: \n",
      "[[ 0.5  0.   0. ]\n",
      " [ 0.   0.5  0. ]\n",
      " [ 0.   0.   0. ]]\n"
     ]
    }
   ],
   "source": [
    "import numpy as np\n",
    "\n",
    "def p(th,ph):\n",
    "    \"\"\"\n",
    "    Calculate unit vector for spherical angles theta and phi\n",
    "    \"\"\"\n",
    "    return (np.sin(th)*np.cos(ph),np.sin(th)*np.sin(ph),np.cos(th))\n",
    "\n",
    "p_0 = p(np.pi/2,0)\n",
    "p_45 = p(np.pi/2,np.pi/4)\n",
    "p_m45 = p(np.pi/2,-np.pi/4)\n",
    "p_90 = p(np.pi/2,np.pi/2)\n",
    "\n",
    "#calculate second-order orientation tensors\n",
    "a2_090 = np.zeros((3,3))\n",
    "a2_pm45 = np.zeros((3,3))\n",
    "a2_04590 = np.zeros((3,3))\n",
    "for i in range(3):\n",
    "    for j in range(3):\n",
    "        a2_090[i,j] = 0.5*(p_0[i]*p_0[j] + p_90[i]*p_90[j])\n",
    "        a2_pm45[i,j] = 0.5*(p_45[i]*p_45[j] + p_m45[i]*p_m45[j])\n",
    "        a2_04590[i,j] = 0.25*(p_0[i]*p_0[j] + p_45[i]*p_45[j] + p_m45[i]*p_m45[j] + p_90[i]*p_90[j])\n",
    "\n",
    "#calculate fourth-order orientation tensors\n",
    "a4_090 = np.zeros((3,3,3,3))\n",
    "a4_pm45 = np.zeros((3,3,3,3))\n",
    "a4_04590 = np.zeros((3,3,3,3))\n",
    "for i in range(3):\n",
    "    for j in range(3):\n",
    "        for k in range(3):\n",
    "            for l in range(3):\n",
    "                a4_090[i,j,k,l] = 0.5*(p_0[i]*p_0[j]*p_0[k]*p_0[l] + p_90[i]*p_90[j]*p_90[k]*p_90[l])\n",
    "                a4_pm45[i,j,k,l] = 0.5*(p_45[i]*p_45[j]*p_45[k]*p_45[l] + p_m45[i]*p_m45[j]*p_m45[k]*p_m45[l])\n",
    "                a4_04590[i,j,k,l] = 0.25*(p_0[i]*p_0[j]*p_0[k]*p_0[l] + p_45[i]*p_45[j]*p_45[k]*p_45[l] + p_m45[i]*p_m45[j]*p_m45[k]*p_m45[l] + p_90[i]*p_90[j]*p_90[k]*p_90[l])\n",
    "                \n",
    "print \"0/90 laminate: \"\n",
    "print np.round(a2_090,decimals=2)\n",
    "print \"+-45 laminate: \" \n",
    "print np.round(a2_pm45,decimals=2)\n",
    "print \"0/+-45/90 laminate: \" \n",
    "print np.round(a2_04590,decimals=2)"
   ]
  },
  {
   "cell_type": "code",
   "execution_count": 2,
   "metadata": {},
   "outputs": [
    {
     "name": "stdout",
     "output_type": "stream",
     "text": [
      "0/90 laminate: \n",
      "[[ 0.5  0.   0.   0.   0.   0. ]\n",
      " [ 0.   0.5  0.   0.   0.   0. ]\n",
      " [ 0.   0.   0.   0.   0.   0. ]\n",
      " [ 0.   0.   0.   0.   0.   0. ]\n",
      " [ 0.   0.   0.   0.   0.   0. ]\n",
      " [ 0.   0.   0.   0.   0.   0. ]]\n",
      "+-45 laminate: \n",
      "[[ 0.25  0.25  0.    0.    0.    0.  ]\n",
      " [ 0.25  0.25  0.    0.    0.    0.  ]\n",
      " [ 0.    0.    0.    0.    0.    0.  ]\n",
      " [ 0.    0.    0.    0.    0.    0.  ]\n",
      " [ 0.    0.    0.    0.    0.    0.  ]\n",
      " [ 0.    0.    0.    0.    0.    0.25]]\n",
      "0/+-45/90 laminate: \n",
      "[[ 0.38  0.12  0.    0.    0.    0.  ]\n",
      " [ 0.12  0.37  0.    0.    0.    0.  ]\n",
      " [ 0.    0.    0.    0.    0.    0.  ]\n",
      " [ 0.    0.    0.    0.    0.    0.  ]\n",
      " [ 0.    0.    0.    0.    0.    0.  ]\n",
      " [ 0.    0.    0.    0.    0.    0.12]]\n"
     ]
    }
   ],
   "source": [
    "# for printing purposes, recast 4th-order tensor as 6x6\n",
    "def tens2eng(tens):\n",
    "    \"\"\"\n",
    "    returns 4th-order tensor in engineering notation\n",
    "    \"\"\"\n",
    "    A = np.zeros((6,6))\n",
    "    #mapping\n",
    "    code = {0:(0,0),1:(1,1),2:(2,2),3:(1,2),4:(0,2),5:(0,1)}\n",
    "    for i in range(6):\n",
    "        for j in range(6):\n",
    "            A[i,j] = tens[code[i][0],code[i][1],code[j][0],code[j][1]]\n",
    "    return A\n",
    "\n",
    "A4_090 = tens2eng(a4_090)\n",
    "A4_pm45 = tens2eng(a4_pm45)\n",
    "A4_04590 = tens2eng(a4_04590)\n",
    "print \"0/90 laminate: \"\n",
    "print np.round(A4_090,decimals=2)\n",
    "print \"+-45 laminate: \" \n",
    "print np.round(A4_pm45,decimals=2)\n",
    "print \"0/+-45/90 laminate: \" \n",
    "print np.round(A4_04590,decimals=2)"
   ]
  },
  {
   "cell_type": "markdown",
   "metadata": {},
   "source": [
    "## Mori-Tanaka\n",
    "\n",
    "To calculate the orientation average, we first need to find the uni-directional properties using the Mori-Tanaka method.\n",
    "We will use the same properties (stiffness, fiber length) as in the previuos example."
   ]
  },
  {
   "cell_type": "code",
   "execution_count": 3,
   "metadata": {
    "collapsed": true
   },
   "outputs": [],
   "source": [
    "#rotation functions\n",
    "def qij_x(theta):\n",
    "    \"\"\"\n",
    "    rotation tensor about x-axis by some theta\n",
    "    input: theta (angle in radians)\n",
    "    output: qij (3x3 rotation tensor)\n",
    "    \"\"\"\n",
    "    qij = np.array([[1,0,0],\n",
    "                   [0,np.cos(theta),np.sin(theta)],\n",
    "                   [0,-np.sin(theta),np.cos(theta)]])\n",
    "    return qij\n",
    "\n",
    "def qij_y(theta):\n",
    "    \"\"\"\n",
    "    rotation tensor abo|ut y-axis by some theta\n",
    "    input: theta (angle in radians)\n",
    "    output: qij (3x3 rotation tensor)\n",
    "    \"\"\"\n",
    "    qij = np.array([[np.cos(theta), 0, -np.sin(theta)],\n",
    "                   [0,1,0],\n",
    "                   [np.sin(theta),0,np.cos(theta)]])\n",
    "    return qij\n",
    "\n",
    "def qij_z(theta):\n",
    "    \"\"\"\n",
    "    rotation tensor about z-axis by some theta\n",
    "    input: theta (angle in radians)\n",
    "    output: qij (3x3 rotation tensor)\n",
    "    \"\"\"\n",
    "    qij = np.array([[np.cos(theta),np.sin(theta),0],\n",
    "                   [-np.sin(theta),np.cos(theta),0],\n",
    "                   [0,0,1]])\n",
    "    return qij\n",
    "\n",
    "def R_sigma(q):\n",
    "    \"\"\"\n",
    "    rotation matrix for engineering notation given some rotation tensor, qij\n",
    "    note: uses convention for sigma = [s11, s22, s33, s23, s13, s12]\n",
    "    input: q (3x3 rotation tensor)\n",
    "    output: R_s (6x6 rotation matrix)\n",
    "    \"\"\"\n",
    "    R_s = np.array([[q[0,0]**2,q[0,1]**2,q[0,2]**2,2.*q[0,1]*q[0,2],2.*q[0,0]*q[0,2], 2.*q[0,0]*q[0,1]],\n",
    "                       [q[1,0]**2,q[1,1]**2,q[1,2]**2,2.*q[1,1]*q[1,2],2.*q[1,0]*q[1,2], 2.*q[1,0]*q[1,1]],\n",
    "                       [q[2,0]**2,q[2,1]**2,q[2,2]**2,2.*q[2,1]*q[2,2],2.*q[2,0]*q[2,2], 2.*q[2,0]*q[2,1]],\n",
    "                       [q[1,0]*q[2,0], q[1,1]*q[2,1], q[1,2]*q[2,2],q[1,2]*q[2,1]+q[1,1]*q[2,2], q[1,2]*q[2,0]+q[1,0]*q[2,2], q[1,1]*q[2,0]+q[1,0]*q[2,1]],\n",
    "                       [q[0,0]*q[2,0], q[0,1]*q[2,1], q[0,2]*q[2,2],q[0,2]*q[2,1]+q[0,1]*q[2,2], q[0,2]*q[2,0]+q[0,0]*q[2,2], q[0,1]*q[2,0]+q[0,0]*q[2,1]],\n",
    "                       [q[0,0]*q[1,0], q[0,1]*q[1,1], q[0,2]*q[1,2],q[0,2]*q[1,1]+q[0,1]*q[1,2], q[0,2]*q[1,0]+q[0,0]*q[1,2], q[0,1]*q[1,0]+q[0,0]*q[1,1]]])\n",
    "    return R_s"
   ]
  },
  {
   "cell_type": "code",
   "execution_count": 31,
   "metadata": {},
   "outputs": [
    {
     "name": "stdout",
     "output_type": "stream",
     "text": [
      "[[  8.54   5.26   5.29   0.     0.     0.  ]\n",
      " [  5.26   8.54   5.29   0.     0.     0.  ]\n",
      " [  5.29   5.29  26.6    0.     0.     0.  ]\n",
      " [  0.     0.     0.     2.06   0.     0.  ]\n",
      " [  0.     0.     0.     0.     2.06   0.  ]\n",
      " [  0.     0.     0.     0.     0.     1.86]]\n"
     ]
    }
   ],
   "source": [
    "#Eshelby tensor calculations\n",
    "nu_m = 0.40 #matrix poisson's ratio\n",
    "s = 20. #fiber aspect ratio\n",
    "I1 = (2.*s/(s**2.-1.)**1.5)*(s*(s**2.-1.)**.5-np.arccosh(s))\n",
    "Q = 3./(8.*(1-nu_m))\n",
    "R = (1.-2.*nu_m)/(8.*(1.-nu_m))\n",
    "T = Q*(4.-3.*I1)/(3*(s**2.-1.))\n",
    "I3 = 4.-2.*I1\n",
    "\n",
    "S = np.zeros((6,6))\n",
    "S[0,0] = Q + R*I1 + 0.75*T\n",
    "S[1,1] = S[0,0]\n",
    "S[2,2] = 4./3.*Q + R*I3 + 2.*s**2.*T\n",
    "S[0,1] = Q/3. - R*I1 + 4.*T/3.\n",
    "S[1,0] = S[0,1]\n",
    "S[0,2] = -R*I1 - s**2*T\n",
    "S[1,2] = S[0,2]\n",
    "S[2,0] = -R*I3 - T\n",
    "S[2,1] = S[2,0]\n",
    "S[5,5] = Q/3 + R*I1 + T/4\n",
    "S[3,3] = 2*R - I1*R/2 - (1+s**2)*T/2\n",
    "S[4,4] = S[3,3]\n",
    "\n",
    "#fiber/matrix stiffness matrices\n",
    "Ef = 230. #GPa\n",
    "nu_f = 0.2\n",
    "Em = 3.8 #GPa\n",
    "#nu_m defined above\n",
    "\n",
    "Cf = np.zeros((6,6))\n",
    "#isotropic fiber\n",
    "#Cf[0:3,0:3] = nu_f*np.ones((3,3))\n",
    "#Cf = Cf + (1.-2.*nu_f)*np.eye(6)\n",
    "#Cf[3:,3:] = Cf[3:,3:]/2.\n",
    "#Cf = Ef/((1.+nu_f)*(1.-2.*nu_f))*Cf\n",
    "\n",
    "#orthotropic fiber\n",
    "Ef1 = 230.\n",
    "Ef2 = 15.\n",
    "Ef3 = 15.\n",
    "v1 = 0.2 #xy\n",
    "v2 = .0125 #yz\n",
    "v3 = 0.2 #xz\n",
    "G1 = 9.\n",
    "G2 = 5.\n",
    "G3 = 9.\n",
    "Sf = np.array([[1./Ef1, -v1/Ef1, -v3/Ef1, 0, 0, 0],\n",
    "              [-v1/Ef1, 1./Ef2, -v2/Ef2, 0, 0, 0],\n",
    "              [-v3/Ef1, -v2/Ef2, 1./Ef3, 0, 0, 0],\n",
    "              [0, 0, 0, 1./(2*G2), 0, 0],\n",
    "              [0, 0, 0, 0, 1./(2*G3), 0],\n",
    "              [0, 0, 0, 0, 0, 1./(2*G1)]])\n",
    "Cf = np.linalg.inv(Sf)\n",
    "\n",
    "Cm = np.zeros((6,6))\n",
    "Cm[0:3,0:3] = nu_m*np.ones((3,3))\n",
    "Cm = Cm + (1.-2.*nu_m)*np.eye(6)\n",
    "Cm[3:,3:] = Cm[3:,3:]/2.\n",
    "Cm = Em/((1+nu_m)*(1.-2.*nu_m))*Cm\n",
    "\n",
    "#rotate S to x-direction\n",
    "Q1 = qij_y(np.pi/2)\n",
    "R1 = R_sigma(Q1)\n",
    "S1 = np.dot(R1,np.dot(S,R1.T))\n",
    "\n",
    "#Eshelby strain concentration\n",
    "vf = 0.15 #fiber volume fraction\n",
    "A_e = np.linalg.inv(np.eye(6)+np.dot(np.dot(S1,np.linalg.inv(Cm)),Cf-Cm))\n",
    "A_mt = np.dot(A_e,np.linalg.inv(vf*A_e+(1-vf)*np.eye(6)))\n",
    "\n",
    "#uni-directional stiffness\n",
    "C_uni = Cm + vf*np.dot(Cf-Cm,A_mt)\n",
    "#rotate to z\n",
    "C_uni = np.dot(R1,np.dot(C_uni,R1.T))\n",
    "print np.round(C1,decimals=2)"
   ]
  },
  {
   "cell_type": "markdown",
   "metadata": {},
   "source": [
    "## Orientation Averaging\n",
    "\n",
    "Now that we have the uni-directional stiffness matrix, we can use orientation averaging for the three laminate orientations we are considering."
   ]
  },
  {
   "cell_type": "code",
   "execution_count": 24,
   "metadata": {
    "collapsed": true
   },
   "outputs": [],
   "source": [
    "def ornavg(C,A4,a2):\n",
    "    B1 = C[0,0] + C[2,2] - 2*C[1,2] -4*C[4,4]\n",
    "    B2 = C[1,2] - C[0,1]\n",
    "    B3 = C[4,4] - 0.5*(C[0,0]-C[0,1])\n",
    "    B4 = C[0,1]\n",
    "    B5 = 0.5*(C[0,0]-C[0,1])\n",
    "    #map between tensor and engineering notation\n",
    "    code = {0:(0,0),1:(1,1),2:(2,2),3:(1,2),4:(0,2),5:(0,1)}\n",
    "    C_avg = np.zeros((6,6))\n",
    "    for i in range(6):\n",
    "        for j in range(6):\n",
    "            C_avg[i,j] = B1*A4[i,j] + B2*(\n",
    "            a2[code[i][0],code[i][1]]*(code[j][0]==code[j][1]) + \n",
    "                a2[code[j][0],code[j][1]]*(code[i][0]==code[i][1])) + B3*(\n",
    "            a2[code[i][0],code[j][0]]*(code[i][1]==code[j][1]) +\n",
    "            a2[code[i][0],code[j][1]]*(code[i][1]==code[j][0]) +\n",
    "            a2[code[i][1],code[j][0]]*(code[i][0]==code[j][1]) +\n",
    "            a2[code[i][1],code[j][1]]*(code[i][0]==code[j][0])) + B4*(\n",
    "            (code[i][0]==code[i][1])*(code[j][0]==code[j][1])) + B5*(\n",
    "            (code[i][0]==code[j][0])*(code[i][1]==code[j][1]) +\n",
    "            (code[i][0]==code[j][1])*(code[i][1]==code[j][0]))\n",
    "    return C_avg\n",
    "C_avg_090 = ornavg(C_uni,A4_090,a2_090)\n",
    "C_avg_pm45 = ornavg(C_uni,A4_pm45,a2_pm45)\n",
    "C_avg_04590 = ornavg(C_uni,A4_04590,a2_04590)\n",
    "a2s = np.array([[0.95, 0, 0],\n",
    "               [0,.05,0],\n",
    "               [0,0,.05]])\n",
    "a2c = np.eye(3)/3."
   ]
  },
  {
   "cell_type": "code",
   "execution_count": 6,
   "metadata": {},
   "outputs": [
    {
     "name": "stdout",
     "output_type": "stream",
     "text": [
      "[[ 17.57   5.26   5.27   0.     0.     0.  ]\n",
      " [  5.26  17.57   5.27   0.     0.     0.  ]\n",
      " [  5.27   5.27  26.6    0.     0.     0.  ]\n",
      " [  0.     0.     0.     6.35   0.     0.  ]\n",
      " [  0.     0.     0.     0.     6.35   0.  ]\n",
      " [  0.     0.     0.     0.     0.     2.06]]\n",
      "[[ 13.47   9.36   5.27   0.     0.     0.  ]\n",
      " [  9.36  13.47   5.27   0.     0.     0.  ]\n",
      " [  5.27   5.27  26.6    0.     0.     0.  ]\n",
      " [  0.     0.     0.     6.35   0.     0.  ]\n",
      " [  0.     0.     0.     0.     6.35   0.  ]\n",
      " [  0.     0.     0.     0.     0.     6.15]]\n",
      "[[ 15.52   7.31   5.27   0.     0.     0.  ]\n",
      " [  7.31  15.52   5.27   0.     0.     0.  ]\n",
      " [  5.27   5.27  26.6    0.     0.     0.  ]\n",
      " [  0.     0.     0.     6.35   0.     0.  ]\n",
      " [  0.     0.     0.     0.     6.35   0.  ]\n",
      " [  0.     0.     0.     0.     0.     4.1 ]]\n"
     ]
    }
   ],
   "source": [
    "print np.round(C_avg_090,decimals=2)\n",
    "print np.round(C_avg_pm45,decimals=2)\n",
    "print np.round(C_avg_04590,decimals=2)"
   ]
  },
  {
   "cell_type": "markdown",
   "metadata": {},
   "source": [
    "## Mori-Tanaka Oriented\n",
    "\n",
    "Now we compare with the oriented Mori-Tanaka method, I'm pasting rotation code from the previous example below"
   ]
  },
  {
   "cell_type": "code",
   "execution_count": 7,
   "metadata": {
    "collapsed": true
   },
   "outputs": [],
   "source": [
    "def qij_x(theta):\n",
    "    \"\"\"\n",
    "    rotation tensor about x-axis by some theta\n",
    "    input: theta (angle in radians)\n",
    "    output: qij (3x3 rotation tensor)\n",
    "    \"\"\"\n",
    "    qij = np.array([[1,0,0],\n",
    "                   [0,np.cos(theta),np.sin(theta)],\n",
    "                   [0,-np.sin(theta),np.cos(theta)]])\n",
    "    return qij\n",
    "\n",
    "def qij_y(theta):\n",
    "    \"\"\"\n",
    "    rotation tensor abo|ut y-axis by some theta\n",
    "    input: theta (angle in radians)\n",
    "    output: qij (3x3 rotation tensor)\n",
    "    \"\"\"\n",
    "    qij = np.array([[np.cos(theta), 0, -np.sin(theta)],\n",
    "                   [0,1,0],\n",
    "                   [np.sin(theta),0,np.cos(theta)]])\n",
    "    return qij\n",
    "\n",
    "def qij_z(theta):\n",
    "    \"\"\"\n",
    "    rotation tensor about z-axis by some theta\n",
    "    input: theta (angle in radians)\n",
    "    output: qij (3x3 rotation tensor)\n",
    "    \"\"\"\n",
    "    qij = np.array([[np.cos(theta),np.sin(theta),0],\n",
    "                   [-np.sin(theta),np.cos(theta),0],\n",
    "                   [0,0,1]])\n",
    "    return qij\n",
    "\n",
    "def R_sigma(q):\n",
    "    \"\"\"\n",
    "    rotation matrix for engineering notation given some rotation tensor, qij\n",
    "    note: uses convention for sigma = [s11, s22, s33, s23, s13, s12]\n",
    "    input: q (3x3 rotation tensor)\n",
    "    output: R_s (6x6 rotation matrix)\n",
    "    \"\"\"\n",
    "    R_s = np.array([[q[0,0]**2,q[0,1]**2,q[0,2]**2,2.*q[0,1]*q[0,2],2.*q[0,0]*q[0,2], 2.*q[0,0]*q[0,1]],\n",
    "                       [q[1,0]**2,q[1,1]**2,q[1,2]**2,2.*q[1,1]*q[1,2],2.*q[1,0]*q[1,2], 2.*q[1,0]*q[1,1]],\n",
    "                       [q[2,0]**2,q[2,1]**2,q[2,2]**2,2.*q[2,1]*q[2,2],2.*q[2,0]*q[2,2], 2.*q[2,0]*q[2,1]],\n",
    "                       [q[1,0]*q[2,0], q[1,1]*q[2,1], q[1,2]*q[2,2],q[1,2]*q[2,1]+q[1,1]*q[2,2], q[1,2]*q[2,0]+q[1,0]*q[2,2], q[1,1]*q[2,0]+q[1,0]*q[2,1]],\n",
    "                       [q[0,0]*q[2,0], q[0,1]*q[2,1], q[0,2]*q[2,2],q[0,2]*q[2,1]+q[0,1]*q[2,2], q[0,2]*q[2,0]+q[0,0]*q[2,2], q[0,1]*q[2,0]+q[0,0]*q[2,1]],\n",
    "                       [q[0,0]*q[1,0], q[0,1]*q[1,1], q[0,2]*q[1,2],q[0,2]*q[1,1]+q[0,1]*q[1,2], q[0,2]*q[1,0]+q[0,0]*q[1,2], q[0,1]*q[1,0]+q[0,0]*q[1,1]]])\n",
    "    return R_s"
   ]
  },
  {
   "cell_type": "markdown",
   "metadata": {},
   "source": [
    "Now for the stiffness calculations"
   ]
  },
  {
   "cell_type": "code",
   "execution_count": 8,
   "metadata": {
    "collapsed": true
   },
   "outputs": [],
   "source": [
    "Q1 = qij_y(np.pi/2)\n",
    "Q2_45 = qij_x(np.pi/4) #plus 45 rotation\n",
    "Q2_m45 = qij_x(-np.pi/4) #minus 45 rotation\n",
    "Q2_90 = qij_x(np.pi/2) #90 degrees\n",
    "\n",
    "Q_45 = np.dot(Q1.T,Q2_45.T) #matrix multiplication in python\n",
    "Q_m45 = np.dot(Q1.T,Q2_m45.T)\n",
    "Q_0 = Q1.T\n",
    "Q_90 = np.dot(Q1.T,Q2_90.T)\n",
    "\n",
    "#engineering notation transformations for all 4 angles\n",
    "R_45 = R_sigma(Q_45)\n",
    "R_m45 = R_sigma(Q_m45)\n",
    "R_90 = R_sigma(Q_0)\n",
    "R_0 = R_sigma(Q_90)\n",
    "\n",
    "#rotated Eshelby tensors\n",
    "S_45 = np.dot(R_45,np.dot(S,R_45.T))\n",
    "S_m45 = np.dot(R_m45,np.dot(S,R_m45.T))\n",
    "S_0 = np.dot(R_0,np.dot(S,R_0.T))\n",
    "S_90 = np.dot(R_90,np.dot(S,R_90.T))\n",
    "\n",
    "#Eshelby strain concentration tensors\n",
    "A_45 = np.linalg.inv(np.eye(6)+np.dot(np.dot(S_45,np.linalg.inv(Cm)),(Cf-Cm)))\n",
    "A_m45 = np.linalg.inv(np.eye(6)+np.dot(np.dot(S_m45,np.linalg.inv(Cm)),(Cf-Cm)))\n",
    "A_0 = np.linalg.inv(np.eye(6)+np.dot(np.dot(S_0,np.linalg.inv(Cm)),(Cf-Cm)))\n",
    "A_90 = np.linalg.inv(np.eye(6)+np.dot(np.dot(S_90,np.linalg.inv(Cm)),(Cf-Cm)))\n",
    "\n",
    "#Mori-Tanaka strain concentration tensors\n",
    "#+- 45 laminate\n",
    "v_m = 1-vf #matrix volume fraction\n",
    "A_tot = A_45*vf/2 + A_m45*vf/2\n",
    "A_mt_45 = np.dot(A_45,np.linalg.inv(A_tot+(1-vf)*np.eye(6)))\n",
    "A_mt_m45 = np.dot(A_m45,np.linalg.inv(A_tot+(1-vf)*np.eye(6)))\n",
    "C_mt_pm45 = Cm + vf/2*np.dot((Cf-Cm),A_mt_45) + vf/2*np.dot((Cf-Cm),A_mt_m45)\n",
    "\n",
    "#0/90 laminate\n",
    "A_tot = A_0*vf/2 + A_90*vf/2\n",
    "A_mt_0 = np.dot(A_0,np.linalg.inv(A_tot+(1-vf)*np.eye(6)))\n",
    "A_mt_90 = np.dot(A_90,np.linalg.inv(A_tot+(1-vf)*np.eye(6)))\n",
    "C_mt_090 = Cm + vf/2*np.dot((Cf-Cm),A_mt_0) + vf/2*np.dot((Cf-Cm),A_mt_90)\n",
    "\n",
    "#0/+-45/90 laminate\n",
    "A_tot = A_0*vf/4 + A_90*vf/4 + A_45*vf/4 + A_m45*vf/4\n",
    "A_mt_0 = np.dot(A_0,np.linalg.inv(A_tot+(1-vf)*np.eye(6)))\n",
    "A_mt_90 = np.dot(A_90,np.linalg.inv(A_tot+(1-vf)*np.eye(6)))\n",
    "A_mt_45 = np.dot(A_45,np.linalg.inv(A_tot+(1-vf)*np.eye(6)))\n",
    "A_mt_m45 = np.dot(A_m45,np.linalg.inv(A_tot+(1-vf)*np.eye(6)))\n",
    "C_mt_04590 = Cm + vf/4*np.dot((Cf-Cm),A_mt_0) + vf/4*np.dot((Cf-Cm),A_mt_90) + vf/4*np.dot((Cf-Cm),A_mt_45) + vf/4*np.dot((Cf-Cm),A_mt_m45)"
   ]
  },
  {
   "cell_type": "code",
   "execution_count": 9,
   "metadata": {},
   "outputs": [
    {
     "name": "stdout",
     "output_type": "stream",
     "text": [
      "[[ 17.57   5.26   5.27   0.     0.     0.  ]\n",
      " [  5.26  17.57   5.27   0.     0.     0.  ]\n",
      " [  5.27   5.27  26.6    0.     0.     0.  ]\n",
      " [  0.     0.     0.     6.35   0.     0.  ]\n",
      " [  0.     0.     0.     0.     6.35   0.  ]\n",
      " [  0.     0.     0.     0.     0.     2.06]]\n",
      "[[ 18.41   5.23   5.51   0.     0.     0.  ]\n",
      " [  5.22   8.74   5.1    0.     0.     0.  ]\n",
      " [  5.51   5.1    8.66   0.     0.     0.  ]\n",
      " [  0.     0.     0.     1.89   0.     0.  ]\n",
      " [  0.     0.     0.     0.     2.02   0.  ]\n",
      " [  0.     0.     0.     0.     0.     2.06]]\n",
      "[[ 13.47   9.36   5.27   0.     0.     0.  ]\n",
      " [  9.36  13.47   5.27   0.     0.     0.  ]\n",
      " [  5.27   5.27  26.6    0.     0.     0.  ]\n",
      " [  0.     0.     0.     6.35   0.     0.  ]\n",
      " [  0.     0.     0.     0.     6.35   0.  ]\n",
      " [  0.     0.     0.     0.     0.     6.15]]\n",
      "[[ 9.83  5.71  5.32  0.    0.    0.  ]\n",
      " [ 5.71  8.68  5.14  0.    0.    0.  ]\n",
      " [ 5.32  5.14  8.64  0.    0.    0.  ]\n",
      " [ 0.    0.    0.    1.89  0.    0.  ]\n",
      " [ 0.    0.    0.    0.    2.02  0.  ]\n",
      " [ 0.    0.    0.    0.    0.    3.06]]\n",
      "[[ 15.52   7.31   5.27   0.     0.     0.  ]\n",
      " [  7.31  15.52   5.27   0.     0.     0.  ]\n",
      " [  5.27   5.27  26.6    0.     0.     0.  ]\n",
      " [  0.     0.     0.     6.35   0.     0.  ]\n",
      " [  0.     0.     0.     0.     6.35   0.  ]\n",
      " [  0.     0.     0.     0.     0.     4.1 ]]\n",
      "[[ 14.21   5.46   5.42   0.     0.     0.  ]\n",
      " [  5.46   8.72   5.12   0.     0.     0.  ]\n",
      " [  5.42   5.12   8.65   0.     0.     0.  ]\n",
      " [  0.     0.     0.     1.89   0.     0.  ]\n",
      " [  0.     0.     0.     0.     2.02   0.  ]\n",
      " [  0.     0.     0.     0.     0.     2.58]]\n"
     ]
    }
   ],
   "source": [
    "print np.round(C_avg_090,decimals=2)\n",
    "print np.round(C_mt_090,decimals=2)\n",
    "\n",
    "print np.round(C_avg_pm45,decimals=2)\n",
    "print np.round(C_mt_pm45,decimals=2)\n",
    "\n",
    "print np.round(C_avg_04590,decimals=2)\n",
    "print np.round(C_mt_04590,decimals=2)"
   ]
  },
  {
   "cell_type": "markdown",
   "metadata": {},
   "source": [
    "## Closure Approximations\n",
    "\n",
    "Since all closure approximations use the second-order orientation tensor, we will get the same prediction for any of these laminates.\n",
    "We will compare three simple closure methods, the linear, quadratic, and hybrid methods\n"
   ]
  },
  {
   "cell_type": "code",
   "execution_count": 34,
   "metadata": {
    "collapsed": true
   },
   "outputs": [],
   "source": [
    "#linear closure\n",
    "a2 = a2c\n",
    "a4_l = np.zeros((3,3,3,3))\n",
    "for i in range(3):\n",
    "    for j in range(3):\n",
    "        for k in range(3):\n",
    "            for l in range(3):\n",
    "                a4_l[i,j,k,l] = -1./24.*((i==j)*(k==l) + (i==k)*(j==l) + (i==l)*(j==k)) + 1./6.*(\n",
    "                a2[i,j]*(k==l) + a2[i,k]*(j==l) +a2[i,l]*(j==k) + a2[k,l]*(i==j) + \n",
    "                a2[j,l]*(i==k) + a2[j,k]*(i==l))\n",
    "A4_l = tens2eng(a4_l)\n",
    "C_l = ornavg(C_uni,A4_l,a2)\n",
    "\n",
    "#quadratic closure\n",
    "a4_q = np.zeros((3,3,3,3))\n",
    "for i in range(3):\n",
    "    for j in range(3):\n",
    "        for k in range(3):\n",
    "            for l in range(3):\n",
    "                a4_q[i,j,k,l] = a2[i,j]*a2[k,l]\n",
    "A4_q = tens2eng(a4_q)\n",
    "C_q = ornavg(C_uni, A4_q,a2)\n",
    "\n",
    "#hybrid closure\n",
    "f = -0.5\n",
    "for i in range(3):\n",
    "    for j in range(3):\n",
    "        f = f + 1.5*a2[i,j]*a2[j,i]\n",
    "A4_h = (1-f)*A4_l + f*A4_q\n",
    "C_h = ornavg(C_uni,A4_h,a2)"
   ]
  },
  {
   "cell_type": "code",
   "execution_count": 35,
   "metadata": {},
   "outputs": [
    {
     "name": "stdout",
     "output_type": "stream",
     "text": [
      "[[ 12.52   6.41   6.41   0.     0.     0.  ]\n",
      " [  6.41  12.52   6.41   0.     0.     0.  ]\n",
      " [  6.41   6.41  12.52   0.     0.     0.  ]\n",
      " [  0.     0.     0.     3.05   0.     0.  ]\n",
      " [  0.     0.     0.     0.     3.05   0.  ]\n",
      " [  0.     0.     0.     0.     0.     3.05]]\n"
     ]
    }
   ],
   "source": [
    "#print np.round(C_l,decimals=2)\n",
    "#print np.round(C_q,decimals=2)\n",
    "print np.round(C_h,decimals=2)"
   ]
  },
  {
   "cell_type": "code",
   "execution_count": 12,
   "metadata": {},
   "outputs": [
    {
     "data": {
      "text/plain": [
       "5.624099184981966e-33"
      ]
     },
     "execution_count": 12,
     "metadata": {},
     "output_type": "execute_result"
    }
   ],
   "source": [
    "f"
   ]
  },
  {
   "cell_type": "markdown",
   "metadata": {},
   "source": [
    "The hybrid method assumes this is a fairly random distribution ($f=0$), and thus converges to the linear closure."
   ]
  },
  {
   "cell_type": "code",
   "execution_count": 13,
   "metadata": {},
   "outputs": [
    {
     "name": "stdout",
     "output_type": "stream",
     "text": [
      "[[ 8.75  5.65  5.65  0.    0.    0.  ]\n",
      " [ 5.65  8.75  5.65  0.    0.    0.  ]\n",
      " [ 5.65  5.65  8.75  0.    0.    0.  ]\n",
      " [ 0.    0.    0.    1.55  0.    0.  ]\n",
      " [ 0.    0.    0.    0.    1.55  0.  ]\n",
      " [ 0.    0.    0.    0.    0.    1.55]]\n",
      "[[ 8.71  5.67  5.67  0.    0.    0.  ]\n",
      " [ 5.67  8.71  5.67  0.    0.    0.  ]\n",
      " [ 5.67  5.67  8.71  0.    0.    0.  ]\n",
      " [ 0.    0.    0.    1.52  0.    0.  ]\n",
      " [ 0.    0.    0.    0.    1.52  0.  ]\n",
      " [ 0.    0.    0.    0.    0.    1.52]]\n",
      "[[ 8.77  5.65  5.65  0.    0.    0.  ]\n",
      " [ 5.65  8.77  5.65  0.    0.    0.  ]\n",
      " [ 5.65  5.65  8.77  0.    0.    0.  ]\n",
      " [ 0.    0.    0.    1.56  0.    0.  ]\n",
      " [ 0.    0.    0.    0.    1.56  0.  ]\n",
      " [ 0.    0.    0.    0.    0.    1.56]]\n"
     ]
    }
   ],
   "source": [
    "C_z = np.array([[8.53,5.64,5.62,0,0,0],\n",
    "                [5.64,8.53,5.62,0,0,0],\n",
    "                [5.65,5.65,9.35,0,0,0],\n",
    "                [0,0,0,1.56,0,0],\n",
    "                [0,0,0,0,1.56,0],\n",
    "                [0,0,0,0,0,1.53]])\n",
    "a_rand = np.array([[0.333,0,0],\n",
    "                  [0,0.333,0],\n",
    "                  [0,0,0.333]])\n",
    "a2=a_rand\n",
    "a4_l = np.zeros((3,3,3,3))\n",
    "for i in range(3):\n",
    "    for j in range(3):\n",
    "        for k in range(3):\n",
    "            for l in range(3):\n",
    "                a4_l[i,j,k,l] = -1./24.*((i==j)*(k==l) + (i==k)*(j==l) + (i==l)*(j==k)) + 1./6.*(\n",
    "                a2[i,j]*(k==l) + a2[i,k]*(j==l) +a2[i,l]*(j==k) + a2[k,l]*(i==j) + \n",
    "                a2[j,l]*(i==k) + a2[j,k]*(i==l))\n",
    "A4_l = tens2eng(a4_l)\n",
    "C_l = ornavg(C_z,A4_l,a2)\n",
    "\n",
    "#quadratic closure\n",
    "a4_q = np.zeros((3,3,3,3))\n",
    "for i in range(3):\n",
    "    for j in range(3):\n",
    "        for k in range(3):\n",
    "            for l in range(3):\n",
    "                a4_q[i,j,k,l] = a2[i,j]*a2[k,l]\n",
    "A4_q = tens2eng(a4_q)\n",
    "C_q = ornavg(C_z, A4_q,a2)\n",
    "\n",
    "#hybrid closure\n",
    "f = -1.0\n",
    "for i in range(3):\n",
    "    for j in range(3):\n",
    "        f = f + 2*a2[i,j]*a2[j,i]\n",
    "A4_h = (1-f)*A4_l + f*A4_q\n",
    "C_h = ornavg(C_z,A4_h,a2)\n",
    "print np.round(C_l,decimals=2)\n",
    "print np.round(C_q,decimals=2)\n",
    "print np.round(C_h,decimals=2)"
   ]
  },
  {
   "cell_type": "code",
   "execution_count": 14,
   "metadata": {},
   "outputs": [
    {
     "data": {
      "text/plain": [
       "-0.33466599999999991"
      ]
     },
     "execution_count": 14,
     "metadata": {},
     "output_type": "execute_result"
    }
   ],
   "source": [
    "f"
   ]
  },
  {
   "cell_type": "code",
   "execution_count": 15,
   "metadata": {
    "collapsed": true
   },
   "outputs": [],
   "source": [
    "#linear closure\n",
    "a2 = np.array([[0, 0, 0],[0,0, 0],[0,0,1]])\n",
    "a4_l = np.zeros((3,3,3,3))\n",
    "for i in range(3):\n",
    "    for j in range(3):\n",
    "        for k in range(3):\n",
    "            for l in range(3):\n",
    "                a4_l[i,j,k,l] = -1./24.*((i==j)*(k==l) + (i==k)*(j==l) + (i==l)*(j==k)) + 1./6.*(\n",
    "                a2[i,j]*(k==l) + a2[i,k]*(j==l) +a2[i,l]*(j==k) + a2[k,l]*(i==j) + \n",
    "                a2[j,l]*(i==k) + a2[j,k]*(i==l))\n",
    "A4_l = tens2eng(a4_l)\n",
    "C_l = ornavg(C_uni,A4_l,a2)\n",
    "\n",
    "#quadratic closure\n",
    "a4_q = np.zeros((3,3,3,3))\n",
    "for i in range(3):\n",
    "    for j in range(3):\n",
    "        for k in range(3):\n",
    "            for l in range(3):\n",
    "                a4_q[i,j,k,l] = a2[i,j]*a2[k,l]\n",
    "A4_q = tens2eng(a4_q)\n",
    "C_q = ornavg(C_uni, A4_q,a2)\n",
    "\n",
    "#hybrid closure\n",
    "f = -1.0\n",
    "for i in range(3):\n",
    "    for j in range(3):\n",
    "        f = f + 2*a2[i,j]*a2[j,i]\n",
    "A4_h = (1-f)*A4_l + f*A4_q\n",
    "C_h = ornavg(C_uni,A4_h,a2)"
   ]
  },
  {
   "cell_type": "code",
   "execution_count": 16,
   "metadata": {},
   "outputs": [
    {
     "data": {
      "text/plain": [
       "array([[ 24.55,   4.61,   7.31,   0.  ,   0.  ,   0.  ],\n",
       "       [  4.61,  24.55,   7.31,   0.  ,   0.  ,   0.  ],\n",
       "       [  7.31,   7.31,   6.49,   0.  ,   0.  ,   0.  ],\n",
       "       [  0.  ,   0.  ,   0.  ,   4.1 ,   0.  ,   0.  ],\n",
       "       [  0.  ,   0.  ,   0.  ,   0.  ,   4.1 ,   0.  ],\n",
       "       [  0.  ,   0.  ,   0.  ,   0.  ,   0.  ,   9.97]])"
      ]
     },
     "execution_count": 16,
     "metadata": {},
     "output_type": "execute_result"
    }
   ],
   "source": [
    "np.round(C_l,decimals=2)"
   ]
  },
  {
   "cell_type": "code",
   "execution_count": 17,
   "metadata": {},
   "outputs": [
    {
     "data": {
      "text/plain": [
       "array([[ 26.6 ,   5.29,   5.26,   0.  ,   0.  ,   0.  ],\n",
       "       [  5.29,  26.6 ,   5.26,   0.  ,   0.  ,   0.  ],\n",
       "       [  5.26,   5.26,   8.54,   0.  ,   0.  ,   0.  ],\n",
       "       [  0.  ,   0.  ,   0.  ,   2.06,   0.  ,   0.  ],\n",
       "       [  0.  ,   0.  ,   0.  ,   0.  ,   2.06,   0.  ],\n",
       "       [  0.  ,   0.  ,   0.  ,   0.  ,   0.  ,  10.65]])"
      ]
     },
     "execution_count": 17,
     "metadata": {},
     "output_type": "execute_result"
    }
   ],
   "source": [
    "np.round(C_q,decimals=2)"
   ]
  },
  {
   "cell_type": "code",
   "execution_count": 18,
   "metadata": {},
   "outputs": [
    {
     "data": {
      "text/plain": [
       "array([[ 26.6 ,   5.29,   5.26,   0.  ,   0.  ,   0.  ],\n",
       "       [  5.29,  26.6 ,   5.26,   0.  ,   0.  ,   0.  ],\n",
       "       [  5.26,   5.26,   8.54,   0.  ,   0.  ,   0.  ],\n",
       "       [  0.  ,   0.  ,   0.  ,   2.06,   0.  ,   0.  ],\n",
       "       [  0.  ,   0.  ,   0.  ,   0.  ,   2.06,   0.  ],\n",
       "       [  0.  ,   0.  ,   0.  ,   0.  ,   0.  ,  10.65]])"
      ]
     },
     "execution_count": 18,
     "metadata": {},
     "output_type": "execute_result"
    }
   ],
   "source": [
    "np.round(C_h,decimals=2)"
   ]
  },
  {
   "cell_type": "code",
   "execution_count": null,
   "metadata": {
    "collapsed": true
   },
   "outputs": [],
   "source": []
  }
 ],
 "metadata": {
  "anaconda-cloud": {},
  "kernelspec": {
   "display_name": "Python 2",
   "language": "python",
   "name": "python2"
  },
  "language_info": {
   "codemirror_mode": {
    "name": "ipython",
    "version": 2
   },
   "file_extension": ".py",
   "mimetype": "text/x-python",
   "name": "python",
   "nbconvert_exporter": "python",
   "pygments_lexer": "ipython2",
   "version": "2.7.13"
  }
 },
 "nbformat": 4,
 "nbformat_minor": 1
}
