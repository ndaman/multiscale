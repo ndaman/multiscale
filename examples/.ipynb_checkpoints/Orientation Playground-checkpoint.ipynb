{
 "cells": [
  {
   "cell_type": "markdown",
   "metadata": {},
   "source": [
    "# Orientation Playground\n",
    "\n",
    "This notebook is to summarize the rotation equations we use and to test them.\n",
    "Remember that you can copy this notebook into your own live notebook at https://notebooks.azure.com/ to see intermediate values.\n",
    "\n",
    "Although we developed two sets of equations for completeness, $Q_{ij}$ for transforming coordinates from local to global and $\\beta_{ij}$ for transforming from global to local, we only need one set of equations, as we can change whether the transformation goes local to global or global to local by using the inverse.\n",
    "\n",
    "$$\n",
    "Q_{ij} = \\cos(x_i^\\prime,x_j)\n",
    "$$\n",
    "\n",
    "Which gives\n",
    "\n",
    "$$\n",
    "x^\\prime = [Q] x\n",
    "$$\n",
    "and\n",
    "$$\n",
    "\\sigma^\\prime = [Q][\\sigma][Q^T]\n",
    "$$\n",
    "\n",
    "For successive intinrinsic rotations (intrinsic means that each successive rotation is about the previously-rotated coordinate system, as opposed to the global coordinate system), we have\n",
    "$$\n",
    "e^{\\prime \\prime \\prime} = [Q^{\\prime \\prime}][Q^{\\prime}][Q]e\n",
    "$$\n",
    "\n",
    "## Engineering notation\n",
    "\n",
    "We also built transformations for engineering notation.\n",
    "In engineering notation, we write 3x3 tensors as a 1x6 vector and 3x3x3x3 tensors as a 6x6 matrix.\n",
    "In our work we will use the following tensor to engineering index conversion\n",
    "\n",
    "| Tensor notation ($ij$ or $kl$) | Engineering Notation|\n",
    "|--|--|\n",
    "| 11 | 1 |\n",
    "| 22 | 2 |\n",
    "| 33 | 3 |\n",
    "| 23 | 4 |\n",
    "| 13 | 5 |\n",
    "| 12 | 6 |\n",
    "\n",
    "We can represent the tensor transformation \n",
    "$$\n",
    "\\sigma^\\prime = [Q][\\sigma][Q^T]\n",
    "$$\n",
    "as\n",
    "$$\n",
    "\\sigma^\\prime = R_\\sigma \\sigma\n",
    "$$\n",
    "in engineering notation.\n",
    "\n",
    "To transform a 4th-order tensor we use\n",
    "$$\n",
    "C^\\prime = R_\\sigma C R_\\sigma^T\n",
    "$$\n",
    "\n",
    "Where\n",
    "\n",
    "$$\n",
    "R_\\sigma = \\begin{bmatrix}\n",
    "\t\t\t\tQ_{11}^2 & Q_{12}^2 & Q_{13}^2 & 2Q_{12}Q_{13} & 2 Q_{11} Q_{13} & 2Q_{11}Q_{12}\\\\\n",
    "\t\t\t\tQ_{21}^2 & Q_{22}^2 & Q_{23}^2 & 2Q_{22}Q_{23} & 2 Q_{21} Q_{23} & 2Q_{21}Q_{22}\\\\\n",
    "\t\t\t\tQ_{31}^2 & Q_{32}^2 & Q_{33}^2 & 2Q_{32}Q_{33} & 2 Q_{31} Q_{33} & 2Q_{31}Q_{32}\\\\\n",
    "\t\t\t\tQ_{21}Q_{31} & Q_{22}Q_{32} & Q_{23}Q_{33} & Q_{23}Q_{32} + Q_{22}Q_{33} & Q_{23}Q_{31} + Q_{21}Q_{33} & Q_{22}Q_{31} + Q_{21}Q_{32}\\\\\n",
    "\t\t\t\tQ_{11}Q_{31} & Q_{12}Q_{32} & Q_{13}Q_{33} & Q_{13}Q_{32} + Q_{12}Q_{33} & Q_{13}Q_{31} + Q_{11}Q_{33} & Q_{12}Q_{31} + Q_{11}Q_{32}\\\\\n",
    "\t\t\t\tQ_{11}Q_{21} & Q_{12}Q_{22} & Q_{13}Q_{23} & Q_{13}Q_{22} + Q_{12}Q_{23} & Q_{13}Q_{21} + Q_{11}Q_{23} & Q_{12}Q_{21} + Q_{11}Q_{22}\n",
    "\t\t\\end{bmatrix}\n",
    "$$\n",
    "\n",
    "## Orientation functions\n",
    "I will now define $Q$ for rotations about each axis and $R_\\sigma$ for convenience and show how we can confirm that our rotations are correct."
   ]
  },
  {
   "cell_type": "code",
   "execution_count": 1,
   "metadata": {
    "collapsed": true
   },
   "outputs": [],
   "source": [
    "import numpy as np\n",
    "\n",
    "def qij_x(theta):\n",
    "    \"\"\"\n",
    "    rotation tensor about x-axis by some theta\n",
    "    input: theta (angle in radians)\n",
    "    output: qij (3x3 rotation tensor)\n",
    "    \"\"\"\n",
    "    qij = np.array([[1,0,0],\n",
    "                   [0,np.cos(theta),np.sin(theta)],\n",
    "                   [0,-np.sin(theta),np.cos(theta)]])\n",
    "    return qij\n",
    "\n",
    "def qij_y(theta):\n",
    "    \"\"\"\n",
    "    rotation tensor abo|ut y-axis by some theta\n",
    "    input: theta (angle in radians)\n",
    "    output: qij (3x3 rotation tensor)\n",
    "    \"\"\"\n",
    "    qij = np.array([[np.cos(theta), 0, -np.sin(theta)],\n",
    "                   [0,1,0],\n",
    "                   [np.sin(theta),0,np.cos(theta)]])\n",
    "    return qij\n",
    "\n",
    "def qij_z(theta):\n",
    "    \"\"\"\n",
    "    rotation tensor about z-axis by some theta\n",
    "    input: theta (angle in radians)\n",
    "    output: qij (3x3 rotation tensor)\n",
    "    \"\"\"\n",
    "    qij = np.array([[np.cos(theta),np.sin(theta),0],\n",
    "                   [-np.sin(theta),np.cos(theta),0],\n",
    "                   [0,0,1]])\n",
    "    return qij\n",
    "\n",
    "def R_sigma(q):\n",
    "    \"\"\"\n",
    "    rotation matrix for engineering notation given some rotation tensor, qij\n",
    "    note: uses convention for sigma = [s11, s22, s33, s23, s13, s12]\n",
    "    input: q (3x3 rotation tensor)\n",
    "    output: R_s (6x6 rotation matrix)\n",
    "    \"\"\"\n",
    "    R_s = np.array([[q[0,0]**2,q[0,1]**2,q[0,2]**2,2.*q[0,1]*q[0,2],2.*q[0,0]*q[0,2], 2.*q[0,0]*q[0,1]],\n",
    "                       [q[1,0]**2,q[1,1]**2,q[1,2]**2,2.*q[1,1]*q[1,2],2.*q[1,0]*q[1,2], 2.*q[1,0]*q[1,1]],\n",
    "                       [q[2,0]**2,q[2,1]**2,q[2,2]**2,2.*q[2,1]*q[2,2],2.*q[2,0]*q[2,2], 2.*q[2,0]*q[2,1]],\n",
    "                       [q[1,0]*q[2,0], q[1,1]*q[2,1], q[1,2]*q[2,2],q[1,2]*q[2,1]+q[1,1]*q[2,2], q[1,2]*q[2,0]+q[1,0]*q[2,2], q[1,1]*q[2,0]+q[1,0]*q[2,1]],\n",
    "                       [q[0,0]*q[2,0], q[0,1]*q[2,1], q[0,2]*q[2,2],q[0,2]*q[2,1]+q[0,1]*q[2,2], q[0,2]*q[2,0]+q[0,0]*q[2,2], q[0,1]*q[2,0]+q[0,0]*q[2,1]],\n",
    "                       [q[0,0]*q[1,0], q[0,1]*q[1,1], q[0,2]*q[1,2],q[0,2]*q[1,1]+q[0,1]*q[1,2], q[0,2]*q[1,0]+q[0,0]*q[1,2], q[0,1]*q[1,0]+q[0,0]*q[1,1]]])\n",
    "    return R_s"
   ]
  },
  {
   "cell_type": "markdown",
   "metadata": {},
   "source": [
    "## Checking Rotations\n",
    "\n",
    "The first thing we want to do is to make sure our $Q$'s are doing coordinate transformation in the way that we expect.\n",
    "\n",
    "It is usually easiest to compare with global coordinates, so we can check our $Q$ using $x = [Q^T]x^\\prime$.\n",
    "\n",
    "For example, a $45^\\circ$ rotation about $x_3$ should give that the $x_1^\\prime$ axis is at $\\langle .707, .707, 0\\rangle$, the $x_2^\\prime$ axis is at $\\langle -.707, .707, 0\\rangle$ and the $x_3^\\prime$ axis is unchanged."
   ]
  },
  {
   "cell_type": "code",
   "execution_count": 4,
   "metadata": {},
   "outputs": [
    {
     "name": "stdout",
     "output_type": "stream",
     "text": [
      "[ 0.707  0.707  0.   ]\n",
      "[-0.707  0.707  0.   ]\n",
      "[ 0.  0.  1.]\n"
     ]
    }
   ],
   "source": [
    "Q = qij_z(np.pi/4) #45 degree rotation about x_3\n",
    "print np.round(np.dot(Q.T,[1,0,0]),decimals=3)\n",
    "print np.round(np.dot(Q.T,[0,1,0]),decimals=3)\n",
    "print np.round(np.dot(Q.T,[0,0,1]),decimals=3)"
   ]
  },
  {
   "cell_type": "markdown",
   "metadata": {},
   "source": [
    "We can check the same rotation for the other axes"
   ]
  },
  {
   "cell_type": "code",
   "execution_count": 5,
   "metadata": {},
   "outputs": [
    {
     "name": "stdout",
     "output_type": "stream",
     "text": [
      "[ 0.707  0.    -0.707]\n",
      "[ 0.  1.  0.]\n",
      "[ 0.707  0.     0.707]\n"
     ]
    }
   ],
   "source": [
    "Q = qij_y(np.pi/4) #45 degree rotation about x_2\n",
    "print np.round(np.dot(Q.T,[1,0,0]),decimals=3)\n",
    "print np.round(np.dot(Q.T,[0,1,0]),decimals=3)\n",
    "print np.round(np.dot(Q.T,[0,0,1]),decimals=3)"
   ]
  },
  {
   "cell_type": "code",
   "execution_count": 6,
   "metadata": {},
   "outputs": [
    {
     "name": "stdout",
     "output_type": "stream",
     "text": [
      "[ 1.  0.  0.]\n",
      "[ 0.     0.707  0.707]\n",
      "[ 0.    -0.707  0.707]\n"
     ]
    }
   ],
   "source": [
    "Q = qij_x(np.pi/4) #45 degree rotation about x_1\n",
    "print np.round(np.dot(Q.T,[1,0,0]),decimals=3)\n",
    "print np.round(np.dot(Q.T,[0,1,0]),decimals=3)\n",
    "print np.round(np.dot(Q.T,[0,0,1]),decimals=3)"
   ]
  },
  {
   "cell_type": "markdown",
   "metadata": {},
   "source": [
    "Things get a little tricker when we want to check subsequent rotations, but we can choose some easier rotations as a sanity check.\n",
    "If we rotate $90^\\circ$ about $x_1$, and then $45^\\circ$ about the new $x_2$ axis, we would expect our primed axes to be, in global coordinates:\n",
    "$$\n",
    "x_1 = \\langle .707, .707, 0 \\rangle\n",
    "$$\n",
    "$$\n",
    "x_2 = \\langle 0, 0, 1 \\rangle\n",
    "$$\n",
    "$$\n",
    "x_3 = \\langle .707, -.707, 0 \\rangle\n",
    "$$\n",
    "\n",
    "We can check this by forming $Q = Q^2 Q^1$ and then finding $Q^T$, or by doing that operation all together and finding $\\beta = Q^{1T} Q^{2T}$.\n",
    "We will confirm that both these are correct and give the same result"
   ]
  },
  {
   "cell_type": "code",
   "execution_count": 7,
   "metadata": {},
   "outputs": [
    {
     "name": "stdout",
     "output_type": "stream",
     "text": [
      "[ 0.707  0.707  0.   ]\n",
      "[ 0.  0.  1.]\n",
      "[ 0.707 -0.707  0.   ]\n"
     ]
    }
   ],
   "source": [
    "Q1 = qij_x(np.pi/2)\n",
    "Q2 = qij_y(np.pi/4)\n",
    "Q = np.dot(Q2,Q1)\n",
    "print np.round(np.dot(Q.T,[1,0,0]),decimals=3)\n",
    "print np.round(np.dot(Q.T,[0,1,0]),decimals=3)\n",
    "print np.round(np.dot(Q.T,[0,0,1]),decimals=3)"
   ]
  },
  {
   "cell_type": "code",
   "execution_count": 8,
   "metadata": {},
   "outputs": [
    {
     "name": "stdout",
     "output_type": "stream",
     "text": [
      "[ 0.707  0.707  0.   ]\n",
      "[ 0.  0.  1.]\n",
      "[ 0.707 -0.707  0.   ]\n"
     ]
    }
   ],
   "source": [
    "QT = np.dot(Q1.T,Q2.T)\n",
    "print np.round(np.dot(QT,[1,0,0]),decimals=3)\n",
    "print np.round(np.dot(QT,[0,1,0]),decimals=3)\n",
    "print np.round(np.dot(QT,[0,0,1]),decimals=3)"
   ]
  },
  {
   "cell_type": "markdown",
   "metadata": {},
   "source": [
    "We could choose some other rotations that are easy for us to confirm, but this is a good and simple test case to show that we have done subsequent rotations correctly."
   ]
  },
  {
   "cell_type": "markdown",
   "metadata": {},
   "source": [
    "## Checking R\n",
    "\n",
    "Once we have confirmed that we have the correct $Q$'s formed, we want to check our $R_\\sigma$.\n",
    "\n",
    "Since we already know that $Q$ is correct, we simply need to confirm that \n",
    "$$\n",
    "R_\\sigma \\sigma = [Q][\\sigma][Q^T]\n",
    "$$ "
   ]
  },
  {
   "cell_type": "code",
   "execution_count": 12,
   "metadata": {},
   "outputs": [
    {
     "name": "stdout",
     "output_type": "stream",
     "text": [
      "[[ 0.5  0.  -0.5]\n",
      " [ 0.   1.   0. ]\n",
      " [-0.5  0.   0.5]]\n",
      "[ 0.5  1.   0.5  0.  -0.5  0. ]\n"
     ]
    }
   ],
   "source": [
    "R_s = R_sigma(Q)\n",
    "sigma = np.array([[0,0,0],\n",
    "                 [0,1,0],\n",
    "                 [0,0,1]])\n",
    "se = np.array([sigma[0,0],\n",
    "               sigma[1,1],\n",
    "               sigma[2,2],\n",
    "               sigma[1,2],\n",
    "               sigma[0,2],\n",
    "               sigma[0,1]])#engineering notation\n",
    "print np.round(np.dot(Q,np.dot(sigma,Q.T)),decimals=3)\n",
    "print np.round(np.dot(R_s,se),decimals=3)"
   ]
  },
  {
   "cell_type": "code",
   "execution_count": null,
   "metadata": {
    "collapsed": true
   },
   "outputs": [],
   "source": []
  }
 ],
 "metadata": {
  "anaconda-cloud": {},
  "kernelspec": {
   "display_name": "Python 2",
   "language": "python",
   "name": "python2"
  },
  "language_info": {
   "codemirror_mode": {
    "name": "ipython",
    "version": 2
   },
   "file_extension": ".py",
   "mimetype": "text/x-python",
   "name": "python",
   "nbconvert_exporter": "python",
   "pygments_lexer": "ipython2",
   "version": "2.7.15"
  }
 },
 "nbformat": 4,
 "nbformat_minor": 1
}
